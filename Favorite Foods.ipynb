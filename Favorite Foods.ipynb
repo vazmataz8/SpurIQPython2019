{
 "cells": [
  {
   "cell_type": "code",
   "execution_count": 5,
   "metadata": {},
   "outputs": [
    {
     "name": "stdout",
     "output_type": "stream",
     "text": [
      "{'salad': 'fruits', 'icecream': 'desserts', 'lychee panneer': 'pizza'}\n"
     ]
    }
   ],
   "source": [
    "#dictionary\n",
    "thisdict = {\n",
    "    \"salad\":\"fruits\",\n",
    "    \"icecream\":\"desserts\",\n",
    "    \"lychee panneer\":\"pizza\"\n",
    "}\n",
    "print(thisdict)"
   ]
  },
  {
   "cell_type": "code",
   "execution_count": 2,
   "metadata": {},
   "outputs": [
    {
     "name": "stdout",
     "output_type": "stream",
     "text": [
      "['salad', 'fruits', 'icecream', 'desserts', 'lychee panneer', 'pizza', 'poori']\n"
     ]
    }
   ],
   "source": [
    "#list\n",
    "thislist = [\"salad\",\"fruits\",\"icecream\",\"desserts\",\"lychee panneer\",\"pizza\",\"poori\"]\n",
    "print(thislist)"
   ]
  },
  {
   "cell_type": "code",
   "execution_count": 3,
   "metadata": {},
   "outputs": [
    {
     "name": "stdout",
     "output_type": "stream",
     "text": [
      "('salad', 'fruits', 'icecream', 'desserts', 'lychee panneer', 'pizza', 'poori')\n"
     ]
    }
   ],
   "source": [
    "#set\n",
    "thistuple = (\"salad\",\"fruits\",\"icecream\",\"desserts\",\"lychee panneer\",\"pizza\",\"poori\")\n",
    "print(thistuple)"
   ]
  },
  {
   "cell_type": "code",
   "execution_count": 4,
   "metadata": {},
   "outputs": [
    {
     "name": "stdout",
     "output_type": "stream",
     "text": [
      "('salad', 'fruits', 'icecream', 'desserts', 'lychee panneer', 'pizza', 'poori')\n"
     ]
    }
   ],
   "source": [
    "#tuple\n",
    "thistuple = (\"salad\",\"fruits\",\"icecream\",\"desserts\",\"lychee panneer\",\"pizza\",\"poori\")\n",
    "print(thistuple)"
   ]
  },
  {
   "cell_type": "code",
   "execution_count": 6,
   "metadata": {},
   "outputs": [
    {
     "name": "stdout",
     "output_type": "stream",
     "text": [
      "salad\n",
      "fruits\n",
      "icecream\n",
      "desserts\n",
      "lychee panneer\n",
      "pizza\n",
      "poori\n"
     ]
    }
   ],
   "source": [
    "#print individually\n",
    "food = [\"salad\",\"fruits\",\"icecream\",\"desserts\",\"lychee panneer\",\"pizza\",\"poori\"]\n",
    "for x in food:\n",
    "    print(x)"
   ]
  },
  {
   "cell_type": "code",
   "execution_count": 10,
   "metadata": {},
   "outputs": [
    {
     "name": "stdout",
     "output_type": "stream",
     "text": [
      "get.\n",
      "OFf.\n",
      "MY.\n",
      "LAWN!\n"
     ]
    }
   ],
   "source": [
    "y = [\"get.\",\"OFf.\",\"MY.\",\"LAWN!\"]\n",
    "for x in y:\n",
    "    print(x)"
   ]
  },
  {
   "cell_type": "code",
   "execution_count": 12,
   "metadata": {},
   "outputs": [
    {
     "name": "stdout",
     "output_type": "stream",
     "text": [
      "Mwahaaaahaaahaaahaaaaaaaa!!!!!!!!!\n",
      "#evil life\n"
     ]
    }
   ],
   "source": [
    "print(\"Mwahaaaahaaahaaahaaaaaaaa!!!!!!!!!\")\n",
    "print(\"#evil life\")"
   ]
  },
  {
   "cell_type": "code",
   "execution_count": 16,
   "metadata": {},
   "outputs": [
    {
     "name": "stdout",
     "output_type": "stream",
     "text": [
      "Enter a noun, then hit enter: fire\n",
      "Enter a name, then hit enter: Elmo\n",
      "Enter a verb that ends with -s, then hit enter: sits\n",
      "There was once a fire. It called itself Elmo. It usually sits all day.\n"
     ]
    }
   ],
   "source": [
    "x = input('Enter a noun, then hit enter: ')\n",
    "y = input('Enter a name, then hit enter: ')\n",
    "z = input('Enter a verb that ends with -s, then hit enter: ')\n",
    "d = input('Enter a verb that ends with -ing, then hit enter: ')\n",
    "s = input('Enter a name, then hit enter: ')\n",
    "g = input('Enter a verb that ends with -ed, then hit enter: ')\n",
    "print(\"There was once a \" + x + \".\" + \" It called itself \" + y + \".\" + \" It usually \" + z + \" all day. One day it was \" + d + \" and found a leprechaun named \" + s + \". They became best friends and \" + \" happily ever after.\")"
   ]
  },
  {
   "cell_type": "code",
   "execution_count": null,
   "metadata": {},
   "outputs": [],
   "source": []
  }
 ],
 "metadata": {
  "kernelspec": {
   "display_name": "Python 3",
   "language": "python",
   "name": "python3"
  },
  "language_info": {
   "codemirror_mode": {
    "name": "ipython",
    "version": 3
   },
   "file_extension": ".py",
   "mimetype": "text/x-python",
   "name": "python",
   "nbconvert_exporter": "python",
   "pygments_lexer": "ipython3",
   "version": "3.7.3"
  }
 },
 "nbformat": 4,
 "nbformat_minor": 2
}
